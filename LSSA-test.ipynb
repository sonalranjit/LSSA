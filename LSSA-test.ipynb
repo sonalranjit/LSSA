{
 "cells": [
  {
   "cell_type": "code",
   "execution_count": 1,
   "metadata": {
    "collapsed": true
   },
   "outputs": [],
   "source": [
    "from math import *\n",
    "import numpy as np\n",
    "import matplotlib.pyplot as plt"
   ]
  },
  {
   "cell_type": "code",
   "execution_count": 2,
   "metadata": {
    "collapsed": true
   },
   "outputs": [],
   "source": [
    "t = np.linspace(0.001, 0.119,200)\n",
    "fq = np.linspace(1/min(t), 1/max(t), 1000)\n",
    "\n",
    "y1 = 9.8*np.cos(2*pi*200*t[:]+0)\n",
    "y2 = 7.6*np.cos((2*pi*145*t[:]) + (30*(pi/180)))\n",
    "y3 = 5.4*np.cos((2*pi*93*t[:]) + (70*(pi/180)))\n",
    "y4 = 3.2*np.cos((2*pi*58*t[:]) + (160*(pi/180)))\n",
    "y5 = np.cos((2*pi*35*t[:]) + (320*(pi/180)))\n",
    "\n",
    "l = y1+y2+y3+y4+y5"
   ]
  },
  {
   "cell_type": "code",
   "execution_count": 6,
   "metadata": {},
   "outputs": [
    {
     "data": {
      "image/png": "[encoded data removed]",
      "text/plain": [
       "<matplotlib.figure.Figure at 0x7f83272810b8>"
      ]
     },
     "metadata": {},
     "output_type": "display_data"
    }
   ],
   "source": [
    "s = np.empty([len(fq), 1])\n",
    "for i in range(len(fq)):\n",
    "    A = []\n",
    "    for j in t:\n",
    "        a1 = sin(2*pi*fq[i]*j)\n",
    "        a2 = cos(2*pi*fq[i]*j)\n",
    "        amat = [a1, a2]\n",
    "        A.append(amat)\n",
    "\n",
    "    xhat = np.dot(np.dot(np.linalg.inv(np.dot(np.transpose(A), A)), np.transpose(A)), l)\n",
    "    lhat = np.dot(A, xhat)\n",
    "    s1 = np.dot(np.transpose(l), lhat)\n",
    "    s2 = 1/np.dot(np.transpose(l), l)\n",
    "    ss = pow(np.dot(s1, s2), 2)\n",
    "    s[i] = ss    \n",
    "plt.figure(1)\n",
    "plt.plot(fq, s, 'o-')\n",
    "plt.show()"
   ]
  },
  {
   "cell_type": "code",
   "execution_count": null,
   "metadata": {
    "collapsed": true
   },
   "outputs": [],
   "source": []
  }
 ],
 "metadata": {
  "kernelspec": {
   "display_name": "Python 3",
   "language": "python",
   "name": "python3"
  },
  "language_info": {
   "codemirror_mode": {
    "name": "ipython",
    "version": 3
   },
   "file_extension": ".py",
   "mimetype": "text/x-python",
   "name": "python",
   "nbconvert_exporter": "python",
   "pygments_lexer": "ipython3",
   "version": "3.5.2"
  }
 },
 "nbformat": 4,
 "nbformat_minor": 2
}
